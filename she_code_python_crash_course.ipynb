{
  "nbformat": 4,
  "nbformat_minor": 0,
  "metadata": {
    "kernelspec": {
      "display_name": "Python 3",
      "language": "python",
      "name": "python3"
    },
    "language_info": {
      "codemirror_mode": {
        "name": "ipython",
        "version": 3
      },
      "file_extension": ".py",
      "mimetype": "text/x-python",
      "name": "python",
      "nbconvert_exporter": "python",
      "pygments_lexer": "ipython3",
      "version": "3.7.4"
    },
    "toc": {
      "base_numbering": 1,
      "nav_menu": {},
      "number_sections": false,
      "sideBar": true,
      "skip_h1_title": true,
      "title_cell": "Table of Contents",
      "title_sidebar": "Contents",
      "toc_cell": false,
      "toc_position": {},
      "toc_section_display": true,
      "toc_window_display": true
    },
    "colab": {
      "name": "she_code_python_crash_course.ipynb",
      "provenance": [],
      "collapsed_sections": [],
      "toc_visible": true,
      "include_colab_link": true
    }
  },
  "cells": [
    {
      "cell_type": "markdown",
      "metadata": {
        "id": "view-in-github",
        "colab_type": "text"
      },
      "source": [
        "<a href=\"https://colab.research.google.com/github/faithkane3/e_python/blob/main/she_code_python_crash_course.ipynb\" target=\"_parent\"><img src=\"https://colab.research.google.com/assets/colab-badge.svg\" alt=\"Open In Colab\"/></a>"
      ]
    },
    {
      "cell_type": "markdown",
      "metadata": {
        "id": "yhx5y6frIrmE"
      },
      "source": [
        "<img src=https://i.pinimg.com/564x/6a/45/ae/6a45ae8f4b5354ecff6143199204edee.jpg width=\"500\">"
      ]
    },
    {
      "cell_type": "markdown",
      "metadata": {
        "id": "hbwJ2syBI2KS"
      },
      "source": [
        "# Welcome to My Python Data Types Crash Course!\n",
        "\n",
        "<img src=http://cise-egypt.com/wp-content/uploads/2019/09/WELCOME-ST-IVES.jpg width=\"125\">\n",
        "\n",
        "\n",
        "This tutorial is a basic intro to:\n",
        "- the Python data types `int`, `float`, and `str`.\n",
        "- operators that allow us to do math and make comparisons like `+`, `-`, `==`, and `!=`.\n",
        "- some common built-in functions like `len()`, `type()`, and `input()`.\n",
        "\n",
        "## Getting Started with Your Own Notebook\n",
        "\n",
        "<img src=https://i.pinimg.com/564x/6f/4a/74/6f4a74413474812a02c27e723ff90594.jpg width=\"100\">\n",
        "\n",
        "- Check out the Google Colab tutorials [here](https://dataskills101.github.io/notebooks).\n",
        "- Create your own notebook to work in -> Click the 'File' tab in the upper-left part of the menu bar and click 'Save a copy in Drive' to create your own copy of my Google Colab notebook that you can edit and save.\n",
        "- As you add new cells with your own practice code to this notebook, be sure to save your work by either clicking on the 'File' tab in the menu bar and 'Save' or using `cmd+S`.\n",
        "\n",
        "### Notebook Orientation\n",
        "\n",
        "<img src=https://i.pinimg.com/564x/d5/8f/64/d58f6442180b46ded48f7fbb3a1be86b.jpg width=\"100\">\n",
        "\n",
        "- This notebook is composed of cells. Each cell will contain either text or Python code.\n",
        "- To run the Python code cells, click the \"play\" button next to the cell or click your cursor inside the cell and do \"Shift + Enter\" on your keyboard. \n",
        "- Run the code cells in order from top to bottom, because order matters in programming and code.\n",
        "\n",
        "### Troubleshooting Your Notebook\n",
        "\n",
        "<img src=https://i.pinimg.com/564x/5b/1f/a9/5b1fa906291859ee49cee43c5e1be0d6.jpg width=\"100\">\n",
        "\n",
        "- If the notebook appears to not be working correctly, then restart this environment by going up to **Runtime** then select **Restart Runtime**. \n",
        "- If the notebook is running correctly, but you need a fresh copy of this original notebook, go [here](https://colab.research.google.com/drive/1Io39BlBOYHn1y22_zRfniXhdXE9s-huU?usp=sharing) and repeat the steps above in 'Getting Started'.\n",
        "- Save frequently (`cmd+S`) and save often, so you have access to all of your exercise solutions!"
      ]
    },
    {
      "cell_type": "markdown",
      "metadata": {
        "id": "Sz1LTV77IrmF"
      },
      "source": [
        "___"
      ]
    },
    {
      "cell_type": "markdown",
      "metadata": {
        "id": "3mMTC5yYIrmG"
      },
      "source": [
        "### <font color=red>What Makes Python So Great?</font>\n",
        "\n",
        "<img src=https://i.pinimg.com/564x/c2/6d/64/c26d6441e4cc62a1dbe47f0e4f07a8cb.jpg width=\"150\">\n",
        "\n",
        "\n",
        "Put simply...\n",
        "\n",
        "- Python was designed for readability, so it's very user friendly. It is similar to reading English with influences from math.\n",
        "\n",
        "\n",
        "- Python doesn't use all the semicolons, parentheses, and brackets between your commands like many other languages use. It looks very clean because it uses white space and indentation instead!\n",
        "\n",
        "\n",
        "- Python can do more with less code than many programs. That's awesome!"
      ]
    },
    {
      "cell_type": "markdown",
      "metadata": {
        "id": "QGgtCdeLIrmG"
      },
      "source": [
        "___"
      ]
    },
    {
      "cell_type": "markdown",
      "metadata": {
        "id": "IHPtD-t4IrmH"
      },
      "source": [
        "### <font color=orange>So What Are We Going to do Today?</font>\n",
        "\n",
        "<img src=https://camdenkelly.com/wp-content/uploads/2019/04/question-mark.png width=\"100\">\n",
        "\n",
        "\n",
        "- In this workshop, we will learn just enough about python to write some code that prompts a user for input and based on what they enter, gives them some type of feedback. "
      ]
    },
    {
      "cell_type": "markdown",
      "metadata": {
        "id": "-9NmUIzIIrmI"
      },
      "source": [
        "___"
      ]
    },
    {
      "cell_type": "markdown",
      "metadata": {
        "id": "VVeesYPTIrmI"
      },
      "source": [
        "### <font color=green>Now What?</font>\n",
        "\n",
        "- Let's get comfortable running cells in our notebook while we learn a little about Python data types.\n",
        "\n",
        "- Future Practice: click [here](https://www.pythoncheatsheet.org/#The-Zen-of-Python) for a great Python cheatsheet that covers pretty much any basic thing you might want to know and try out in your notebook on your own time."
      ]
    },
    {
      "cell_type": "markdown",
      "metadata": {
        "id": "HV4h6X8tIrmK"
      },
      "source": [
        "You can run the following right in your Jupyter Notebook to find out what version of python you are using:"
      ]
    },
    {
      "cell_type": "code",
      "metadata": {
        "id": "-6DF2bwsIrmL",
        "colab": {
          "base_uri": "https://localhost:8080/"
        },
        "outputId": "b0cbcad3-c1fa-432e-b49d-244963eb64b0"
      },
      "source": [
        "!python --version"
      ],
      "execution_count": 1,
      "outputs": [
        {
          "output_type": "stream",
          "text": [
            "Python 3.6.9\n"
          ],
          "name": "stdout"
        }
      ]
    },
    {
      "cell_type": "markdown",
      "metadata": {
        "id": "zxsEBWoZIrmO"
      },
      "source": [
        "___"
      ]
    },
    {
      "cell_type": "markdown",
      "metadata": {
        "id": "fpyYqXrfIrmO"
      },
      "source": [
        "#### `len()` and `type()` functions\n",
        "\n",
        "I want to introduce two python functions nice and early because I will use them a lot! I can use the built-in function `len()` to return the number of elements in a sequence like a string or a list. I can use the built-in function `type()` to check my data type.\n",
        "\n",
        "**I can use the built-in function len() to return the number of elements in a sequence object or string.**"
      ]
    },
    {
      "cell_type": "code",
      "metadata": {
        "id": "bU_1KKmNntQ4"
      },
      "source": [
        "# Assign a list of numbers to a variable names numbers. We'll learn more about lists later...\n",
        "\n",
        "numbers = [1, 2, 3, 4, 5, 6]"
      ],
      "execution_count": null,
      "outputs": []
    },
    {
      "cell_type": "code",
      "metadata": {
        "id": "N1tHDg8brvyJ"
      },
      "source": [
        "# Pass my numbers variable to the built-in length function to return the number of elements in numbers.\n",
        "\n",
        "len(numbers)"
      ],
      "execution_count": null,
      "outputs": []
    },
    {
      "cell_type": "code",
      "metadata": {
        "id": "SgYFx6WVn2L8",
        "colab": {
          "base_uri": "https://localhost:8080/"
        },
        "outputId": "eff4c2b6-aab1-4ac8-af56-8b41844a62bb"
      },
      "source": [
        "# I can use the built-in function type() to return the type of object I have passed as an argument.\n",
        "\n",
        "type(numbers)"
      ],
      "execution_count": null,
      "outputs": [
        {
          "output_type": "execute_result",
          "data": {
            "text/plain": [
              "list"
            ]
          },
          "metadata": {
            "tags": []
          },
          "execution_count": 2
        }
      ]
    },
    {
      "cell_type": "code",
      "metadata": {
        "id": "deiGJpdHscO-"
      },
      "source": [
        "# Let's try this with another list. We'll assign the list to the variable colors.\n",
        "\n",
        "colors = ['red', 'yellow', 'orange', 'purple', 'blue', 'green']"
      ],
      "execution_count": null,
      "outputs": []
    },
    {
      "cell_type": "code",
      "metadata": {
        "id": "6D9aTvyTteWV"
      },
      "source": [
        "# How many elements are contained in the list named colors?\n",
        "\n"
      ],
      "execution_count": null,
      "outputs": []
    },
    {
      "cell_type": "code",
      "metadata": {
        "id": "OctrtpFRtfIJ"
      },
      "source": [
        "# What is the data type of colors?\n",
        "\n"
      ],
      "execution_count": null,
      "outputs": []
    },
    {
      "cell_type": "markdown",
      "metadata": {
        "id": "q27tMiQbIrmP"
      },
      "source": [
        "<hr style=\"border-top: 10px groove salmon; margin-top: 1px; margin-bottom: 1px\"></hr>"
      ]
    },
    {
      "cell_type": "markdown",
      "metadata": {
        "id": "DdifF8uLIrmP"
      },
      "source": [
        "## Data Types"
      ]
    },
    {
      "cell_type": "markdown",
      "metadata": {
        "id": "nvICYVQJIrmQ"
      },
      "source": [
        "![Data Type Image](https://encrypted-tbn0.gstatic.com/images?q=tbn%3AANd9GcRmNGBEKQT8nwNYhJUPkl0Kjm-PWMmJKIw_ng&usqp=CAU)"
      ]
    },
    {
      "cell_type": "markdown",
      "metadata": {
        "id": "WH_M3McNIrmR"
      },
      "source": [
        "___"
      ]
    },
    {
      "cell_type": "markdown",
      "metadata": {
        "id": "9Rdxn1fTIrmR"
      },
      "source": [
        "#### **Numeric Types ->** `int`, `float`\n",
        "\n",
        "An `int` is a whole number and a `float` is a decimal number. "
      ]
    },
    {
      "cell_type": "code",
      "metadata": {
        "id": "LCkvyJt_IrmS"
      },
      "source": [
        "# What is the data type of the number 100?\n",
        "\n"
      ],
      "execution_count": null,
      "outputs": []
    },
    {
      "cell_type": "code",
      "metadata": {
        "id": "ktG9FGN8vdjr"
      },
      "source": [
        "# What is the data type of 10.5?\n",
        "\n"
      ],
      "execution_count": null,
      "outputs": []
    },
    {
      "cell_type": "markdown",
      "metadata": {
        "id": "x7CV97p5Irmn"
      },
      "source": [
        "___"
      ]
    },
    {
      "cell_type": "markdown",
      "metadata": {
        "id": "KFeg4GKwIrmn"
      },
      "source": [
        "#### **Sequence Types ->** `str`, `list`, `tuple`, `range`\n",
        "\n",
        "We will be examining string and list data types in this notebook."
      ]
    },
    {
      "cell_type": "markdown",
      "metadata": {
        "id": "qa14i2rqIrmo"
      },
      "source": [
        "**A Python String** can be surrounded by single or double quotation marks and is an immutable object; that means we can't change or mutate a string object. I can have an empty string with no characters or a string can contain multiple words, numbers, symbols, and whitespace characters. Click [here](#strings) to see what you can do with strings."
      ]
    },
    {
      "cell_type": "code",
      "metadata": {
        "id": "aXAQxfKmIrmo"
      },
      "source": [
        "# What is the data type of 'Python rocks!'?\n",
        "\n"
      ],
      "execution_count": null,
      "outputs": []
    },
    {
      "cell_type": "code",
      "metadata": {
        "id": "SWPQxZiyyCgg"
      },
      "source": [
        "# How many characters are in 'Python rocks!'?\n",
        "\n"
      ],
      "execution_count": null,
      "outputs": []
    },
    {
      "cell_type": "code",
      "metadata": {
        "id": "cnS6QXMoIrmq"
      },
      "source": [
        "# What is the data type of 'a'?\n",
        "\n"
      ],
      "execution_count": null,
      "outputs": []
    },
    {
      "cell_type": "code",
      "metadata": {
        "id": "wkCWfvlqyI0T"
      },
      "source": [
        "# How many characters are in 'a'?\n",
        "\n"
      ],
      "execution_count": null,
      "outputs": []
    },
    {
      "cell_type": "code",
      "metadata": {
        "id": "6lKZ3turIrms"
      },
      "source": [
        "# What is the data type of ''?\n",
        "\n"
      ],
      "execution_count": null,
      "outputs": []
    },
    {
      "cell_type": "code",
      "metadata": {
        "id": "hdBXF5YqyL8V"
      },
      "source": [
        "# How many characters are in ''?\n",
        "\n"
      ],
      "execution_count": null,
      "outputs": []
    },
    {
      "cell_type": "code",
      "metadata": {
        "id": "5ZNu9L66xxNx"
      },
      "source": [
        "# What is the data type of my_name?\n",
        "\n"
      ],
      "execution_count": null,
      "outputs": []
    },
    {
      "cell_type": "markdown",
      "metadata": {
        "id": "O0ixIZ6CIrmu"
      },
      "source": [
        "___"
      ]
    },
    {
      "cell_type": "markdown",
      "metadata": {
        "id": "3E1Lb9XuIrmu"
      },
      "source": [
        "**A Python list** can contain elements of different data types and is a mutable object. Duplicate values are allowed. *Notice the square brackets surrounding the elements.* Click [here](#lists) to see what you can do with lists.\n",
        "\n",
        "I can create a Python list in several different ways:"
      ]
    },
    {
      "cell_type": "code",
      "metadata": {
        "id": "zWemp8NKIrmv"
      },
      "source": [
        "# I can create an empty list as simply as this with the list constructor...\n",
        "\n",
        "new_empty_list = []"
      ],
      "execution_count": null,
      "outputs": []
    },
    {
      "cell_type": "code",
      "metadata": {
        "id": "CMCbsS5gze0z",
        "colab": {
          "base_uri": "https://localhost:8080/"
        },
        "outputId": "c1e51499-9eb8-4d9f-dbb5-d7d9be710540"
      },
      "source": [
        "# Run this cell to display the new_empty_list.\n",
        "\n",
        "new_empty_list"
      ],
      "execution_count": null,
      "outputs": [
        {
          "output_type": "execute_result",
          "data": {
            "text/plain": [
              "[]"
            ]
          },
          "metadata": {
            "tags": []
          },
          "execution_count": 6
        }
      ]
    },
    {
      "cell_type": "code",
      "metadata": {
        "id": "rsf9otRhzNhw"
      },
      "source": [
        "# Can you display the data type of new_empty_list?\n",
        "\n"
      ],
      "execution_count": null,
      "outputs": []
    },
    {
      "cell_type": "code",
      "metadata": {
        "id": "_WIyZfiIIrmw"
      },
      "source": [
        "# I can create a populated list from the very start; notice it can contain various data types.\n",
        "\n",
        "mixed_list = [1, 3.5, 'apple']"
      ],
      "execution_count": null,
      "outputs": []
    },
    {
      "cell_type": "code",
      "metadata": {
        "id": "M-bB17Zaz1Hf",
        "colab": {
          "base_uri": "https://localhost:8080/"
        },
        "outputId": "994e5548-c04c-429f-e662-850d9479400a"
      },
      "source": [
        "# Run this cell to \n",
        "\n",
        "mixed_list"
      ],
      "execution_count": null,
      "outputs": [
        {
          "output_type": "execute_result",
          "data": {
            "text/plain": [
              "[1, 3.5, 'apple']"
            ]
          },
          "metadata": {
            "tags": []
          },
          "execution_count": 9
        }
      ]
    },
    {
      "cell_type": "markdown",
      "metadata": {
        "id": "KHqURyfFIrmy"
      },
      "source": [
        "___"
      ]
    },
    {
      "cell_type": "markdown",
      "metadata": {
        "id": "BdNuJePuIrmb"
      },
      "source": [
        "#### **Boolean Type ->** `bool`\n",
        "\n",
        "Boolean values, `True` and `False`, are not strings, so they do not go in quotation marks, and they are case sensitive. Rather they inform me if my expression or condition logic evaluates to `True` or `False`. It's common to hear that a value is truthy or falsy. You can also think of boolean values as binary integers in that `True == 1` and `False == 0`."
      ]
    },
    {
      "cell_type": "code",
      "metadata": {
        "id": "01-I2DVsIrmb"
      },
      "source": [
        "# The lengths of these two strings are not the same; what do you think this will return?\n",
        "\n",
        "len('violet') == len('blue')"
      ],
      "execution_count": null,
      "outputs": []
    },
    {
      "cell_type": "code",
      "metadata": {
        "id": "idE019K_Irmd"
      },
      "source": [
        "# What do you think will be returned if I run this cell?\n",
        "\n",
        "type(len('violet') == len('blue'))"
      ],
      "execution_count": null,
      "outputs": []
    },
    {
      "cell_type": "code",
      "metadata": {
        "id": "L_TedkDeIrmf"
      },
      "source": [
        "# What will running this cell return?\n",
        "\n",
        "False != True"
      ],
      "execution_count": null,
      "outputs": []
    },
    {
      "cell_type": "code",
      "metadata": {
        "id": "ZbTRS3uDIrmi"
      },
      "source": [
        "# What will this comparison return?\n",
        "\n",
        "True == 1"
      ],
      "execution_count": null,
      "outputs": []
    },
    {
      "cell_type": "code",
      "metadata": {
        "id": "TbO1boo_Irmk"
      },
      "source": [
        "# And what do you think THIS comparison will return?\n",
        "\n",
        "False == 0"
      ],
      "execution_count": null,
      "outputs": []
    },
    {
      "cell_type": "markdown",
      "metadata": {
        "id": "7E8il98JIrma"
      },
      "source": [
        "___"
      ]
    },
    {
      "cell_type": "markdown",
      "metadata": {
        "id": "FoYoWz1ZIrnQ"
      },
      "source": [
        "#### **Set Type ->** `set`\n",
        "\n",
        "**A Python set** object is an unordered and unindexed collection that is immutable and contains only unique values. *Notice the curly brackets.* I've opted to focus on list and dictionary methods in this basic notebook, but [here](https://www.w3schools.com/python/python_ref_set.asp) is a link to set methods for future use. They are quite useful when looking for differences or similarities between elements in different sequences."
      ]
    },
    {
      "cell_type": "code",
      "metadata": {
        "id": "w3EFxvNcIrnQ"
      },
      "source": [
        "# Here I use curly brackets to create a set instead of the square brackets for lists.\n",
        "\n",
        "a_set = {1, 1, 2, 5}"
      ],
      "execution_count": null,
      "outputs": []
    },
    {
      "cell_type": "code",
      "metadata": {
        "id": "FGodOewCEh_y"
      },
      "source": [
        "# Check the data type of your a_set variable.\n",
        "\n"
      ],
      "execution_count": null,
      "outputs": []
    },
    {
      "cell_type": "code",
      "metadata": {
        "id": "IgaADKY9IrnT"
      },
      "source": [
        "# Since a set can only contain unique elements, what do you think running this cell will return?\n",
        "\n",
        "len(a_set)"
      ],
      "execution_count": null,
      "outputs": []
    },
    {
      "cell_type": "markdown",
      "metadata": {
        "id": "V1ynYQCaIrnT"
      },
      "source": [
        "When I use the built-in `len()` function, I see that only the unique elements in the set are counted. *This can come in very handy when checking for unique elements in a list.*"
      ]
    },
    {
      "cell_type": "code",
      "metadata": {
        "id": "QKJIgBibIrnV"
      },
      "source": [
        "# Here I use square brackets to create a list containing the same elements as in my set.\n",
        "\n",
        "a_list = [1, 1, 2, 5]"
      ],
      "execution_count": null,
      "outputs": []
    },
    {
      "cell_type": "code",
      "metadata": {
        "id": "EDzmzYTWF0TI"
      },
      "source": [
        "# How many elements are in a_list?\n",
        "\n"
      ],
      "execution_count": null,
      "outputs": []
    },
    {
      "cell_type": "code",
      "metadata": {
        "id": "_mcdHM9vIrnX"
      },
      "source": [
        "# What do you think running this cell will return? Why?\n",
        "\n",
        "len(a_list) == len(a_set)"
      ],
      "execution_count": null,
      "outputs": []
    },
    {
      "cell_type": "markdown",
      "metadata": {
        "id": "EKvxmVbuIrnY"
      },
      "source": [
        "<hr style=\"border-top: 10px groove salmon; margin-top: 1px; margin-bottom: 1px\"></hr>"
      ]
    },
    {
      "cell_type": "markdown",
      "metadata": {
        "id": "HVRFGgKtIrnZ"
      },
      "source": [
        "## Operators\n",
        "\n",
        "Here are some quick reference tables for different kinds of Python operators. We'll be using these in action throughout this notebook."
      ]
    },
    {
      "cell_type": "markdown",
      "metadata": {
        "id": "ayQDyjTMIrnZ"
      },
      "source": [
        "<hr style=\"border-top: 10px groove salmon; margin-top: 1px; margin-bottom: 1px\"></hr>"
      ]
    },
    {
      "cell_type": "markdown",
      "metadata": {
        "id": "dKAxg1_nIrnZ"
      },
      "source": [
        "#### Comparison Operators\n",
        "\n",
        "![Comparison Operator Image](https://slideplayer.com/slide/6506861/22/images/3/Python+Comparison+Operators%3A.jpg)"
      ]
    },
    {
      "cell_type": "markdown",
      "metadata": {
        "id": "boj3WuRiIrna"
      },
      "source": [
        "___"
      ]
    },
    {
      "cell_type": "markdown",
      "metadata": {
        "id": "k0LY-c6sIrnb"
      },
      "source": [
        "#### Logic Operators\n",
        "\n",
        "![Logic Operator Image](https://slide-finder.com/luke/storage/www.tnstate.edu-=-faculty-=-fyao-=-COMP3050-=-Py-Slides-2/jpg/res-06.jpg)"
      ]
    },
    {
      "cell_type": "markdown",
      "metadata": {
        "id": "th6RRofcIrna"
      },
      "source": [
        "___"
      ]
    },
    {
      "cell_type": "markdown",
      "metadata": {
        "id": "3hvkaK2vIrna"
      },
      "source": [
        "#### Arithmetic Operators\n",
        "\n",
        "![Arithmetic Operators Image](https://i.imgur.com/PVOe4o9.jpg)"
      ]
    },
    {
      "cell_type": "code",
      "metadata": {
        "id": "vU9JfNkhSEy4"
      },
      "source": [
        "# What is the remainder of 10 divided by 2?\n",
        "\n"
      ],
      "execution_count": null,
      "outputs": []
    },
    {
      "cell_type": "code",
      "metadata": {
        "id": "lFvx9OFe009L"
      },
      "source": [
        "# What is the remainder of 253 divided by 2?\n",
        "\n"
      ],
      "execution_count": null,
      "outputs": []
    },
    {
      "cell_type": "code",
      "metadata": {
        "id": "I_i2AwgV4ew5"
      },
      "source": [
        "# What is 125 squared?\n",
        "\n"
      ],
      "execution_count": null,
      "outputs": []
    },
    {
      "cell_type": "code",
      "metadata": {
        "id": "rtLquz9e1HRz"
      },
      "source": [
        "# What is 200 squared?\n",
        "\n"
      ],
      "execution_count": null,
      "outputs": []
    },
    {
      "cell_type": "markdown",
      "metadata": {
        "id": "ph8ymEbmIrnb"
      },
      "source": [
        "___"
      ]
    },
    {
      "cell_type": "markdown",
      "metadata": {
        "id": "oC7JWZT0Irnd"
      },
      "source": [
        "## String Operations\n",
        "\n",
        "What can we do with strings?"
      ]
    },
    {
      "cell_type": "markdown",
      "metadata": {
        "id": "JhZSY4NsIrnd"
      },
      "source": [
        "<hr style=\"border-top: 10px groove salmon; margin-top: 1px; margin-bottom: 1px\"></hr>"
      ]
    },
    {
      "cell_type": "markdown",
      "metadata": {
        "id": "XzxMuVfRIrne"
      },
      "source": [
        "### String Methods\n",
        "\n",
        "There are a ton of useful built-in methods that can be accessed using dot notation with Python string variables. To check out some of these methods, let's create a variable that holds a string as an example. To check out way more, check the doc [here](https://www.tutorialspoint.com/python/python_strings.htm)."
      ]
    },
    {
      "cell_type": "code",
      "metadata": {
        "id": "_6YKVPsBIrne"
      },
      "source": [
        "# Assign your first and last name, instead of mine, to a variable named my_name.\n",
        "\n",
        "my_name = 'Faith Kane'"
      ],
      "execution_count": null,
      "outputs": []
    },
    {
      "cell_type": "code",
      "metadata": {
        "id": "1TXwBVdRIrnh"
      },
      "source": [
        "# Can you check the data type of my_name?\n",
        "\n"
      ],
      "execution_count": null,
      "outputs": []
    },
    {
      "cell_type": "markdown",
      "metadata": {
        "id": "4dWA7JbPIrni"
      },
      "source": [
        "___"
      ]
    },
    {
      "cell_type": "markdown",
      "metadata": {
        "id": "47PkCGqwIrnj"
      },
      "source": [
        "#### `.lower()`, `.upper()`, `.capitalize()`, `.title()`, `swapcase()`\n",
        "\n",
        "These string methods transform the characters in my string to either lowercase or uppercase in various ways. Check out the examples below:"
      ]
    },
    {
      "cell_type": "code",
      "metadata": {
        "id": "rC4Zcgi9Irnj"
      },
      "source": [
        "# What do you think each of these functions will do to your string variable, my_name?\n",
        "\n",
        "my_name.lower()"
      ],
      "execution_count": null,
      "outputs": []
    },
    {
      "cell_type": "code",
      "metadata": {
        "id": "sLDJOgPSIrnl"
      },
      "source": [
        "my_name.upper()"
      ],
      "execution_count": null,
      "outputs": []
    },
    {
      "cell_type": "code",
      "metadata": {
        "id": "34EnL9SFIrnm"
      },
      "source": [
        "my_name.capitalize()"
      ],
      "execution_count": null,
      "outputs": []
    },
    {
      "cell_type": "code",
      "metadata": {
        "id": "b3GME5naIrno"
      },
      "source": [
        "my_name.title()"
      ],
      "execution_count": null,
      "outputs": []
    },
    {
      "cell_type": "code",
      "metadata": {
        "id": "GuxDrhpeIrnp"
      },
      "source": [
        "my_name.swapcase()"
      ],
      "execution_count": null,
      "outputs": []
    },
    {
      "cell_type": "code",
      "metadata": {
        "id": "dMJo6JJxIrnr"
      },
      "source": [
        "# Using a string method doesn't mutate my original string; it returns a copy I can use or assign.\n",
        "\n",
        "my_name"
      ],
      "execution_count": null,
      "outputs": []
    },
    {
      "cell_type": "markdown",
      "metadata": {
        "id": "cxc_mZA9Irnt"
      },
      "source": [
        "___"
      ]
    },
    {
      "cell_type": "markdown",
      "metadata": {
        "id": "RyUwJi9MIrnt"
      },
      "source": [
        "#### `.islower()`, `.isupper()`\n",
        "\n",
        "I can use these methods to return a bool value if all of the characters in my string are lowercase or uppercase."
      ]
    },
    {
      "cell_type": "code",
      "metadata": {
        "id": "St2HkWN8Irnt"
      },
      "source": [
        "# I can assign my string in all caps to a variable for further use.\n",
        "\n",
        "caps = my_name.upper()\n",
        "caps"
      ],
      "execution_count": null,
      "outputs": []
    },
    {
      "cell_type": "code",
      "metadata": {
        "id": "sLzmoBAYIrnv"
      },
      "source": [
        "# I can check my string for all upper- or all lowercase letters. Will this return True or False?\n",
        "\n",
        "caps.isupper()"
      ],
      "execution_count": null,
      "outputs": []
    },
    {
      "cell_type": "code",
      "metadata": {
        "id": "m6EZca5NIrnx"
      },
      "source": [
        "# What boolean value will running this string method return?\n",
        "\n",
        "caps.islower()"
      ],
      "execution_count": null,
      "outputs": []
    },
    {
      "cell_type": "markdown",
      "metadata": {
        "id": "hB3Vz2EBIrnz"
      },
      "source": [
        "___"
      ]
    },
    {
      "cell_type": "markdown",
      "metadata": {
        "id": "dHrGNQYIIrnz"
      },
      "source": [
        "#### `.strip()`, `.replace()`\n",
        "\n",
        "These string methods are useful to perform a little string cleanup by removing any whitespace from the beginning or end of my string and replacing a string with another string.\n",
        "```python\n",
        "# default for strip is to take out whitespace; `[chars]` is optional.\n",
        "\n",
        "str.strip([chars])\n",
        "str.lstrip([chars])\n",
        "str.rstrip([chars])\n",
        "\n",
        "# default replaces all occurences of the old with the new; this can be adjusted.\n",
        "\n",
        "string.replace(old, new, [count=-1])\n",
        "```"
      ]
    },
    {
      "cell_type": "code",
      "metadata": {
        "id": "PkGbHMNlIrnz"
      },
      "source": [
        "a_string = ' I am a string. I am a messy string! '"
      ],
      "execution_count": null,
      "outputs": []
    },
    {
      "cell_type": "code",
      "metadata": {
        "id": "_pvnvl-_Irn1",
        "outputId": "9197b109-bb31-4ea8-aec0-b052169863a7"
      },
      "source": [
        "# Strip whitespace from beginning and end of string.\n",
        "\n",
        "a_string.strip()"
      ],
      "execution_count": null,
      "outputs": [
        {
          "output_type": "execute_result",
          "data": {
            "text/plain": [
              "'I am a string. I am a messy string!'"
            ]
          },
          "metadata": {
            "tags": []
          },
          "execution_count": 44
        }
      ]
    },
    {
      "cell_type": "code",
      "metadata": {
        "id": "QpMSgLR5Irn4",
        "outputId": "f8d31d46-dc27-4d64-cecf-e2f43529e16d"
      },
      "source": [
        "# Strip whitespace from beginning of string.\n",
        "\n",
        "a_string.lstrip()"
      ],
      "execution_count": null,
      "outputs": [
        {
          "output_type": "execute_result",
          "data": {
            "text/plain": [
              "'I am a string. I am a messy string! '"
            ]
          },
          "metadata": {
            "tags": []
          },
          "execution_count": 45
        }
      ]
    },
    {
      "cell_type": "code",
      "metadata": {
        "id": "DDMr9t-HIrn5",
        "outputId": "d9ea216d-9fcc-4397-f40d-76b82a27974f"
      },
      "source": [
        "# Strip whitespace from end of string.\n",
        "\n",
        "a_string.rstrip()"
      ],
      "execution_count": null,
      "outputs": [
        {
          "output_type": "execute_result",
          "data": {
            "text/plain": [
              "' I am a string. I am a messy string!'"
            ]
          },
          "metadata": {
            "tags": []
          },
          "execution_count": 46
        }
      ]
    },
    {
      "cell_type": "code",
      "metadata": {
        "id": "6iaWzc1EIrn7"
      },
      "source": [
        "b_string = '!?I have junk at the front I don\\'t need.'"
      ],
      "execution_count": null,
      "outputs": []
    },
    {
      "cell_type": "code",
      "metadata": {
        "id": "WPzq1AyOIrn8",
        "outputId": "b66bec27-c8a6-4c27-c140-96c9fff363f6"
      },
      "source": [
        "# The default is whitespace, but I can strip out other characters as well.\n",
        "\n",
        "b_string.strip('!?')"
      ],
      "execution_count": null,
      "outputs": [
        {
          "output_type": "execute_result",
          "data": {
            "text/plain": [
              "\"I have junk at the front I don't need.\""
            ]
          },
          "metadata": {
            "tags": []
          },
          "execution_count": 48
        }
      ]
    },
    {
      "cell_type": "markdown",
      "metadata": {
        "id": "p8N4gWkfIrn9"
      },
      "source": [
        "___"
      ]
    },
    {
      "cell_type": "code",
      "metadata": {
        "id": "3BvkFmqRIrn-",
        "outputId": "0d6fd761-642b-4879-e334-9ce05e52cc9c"
      },
      "source": [
        "a_string.replace('string', 'something')"
      ],
      "execution_count": null,
      "outputs": [
        {
          "output_type": "execute_result",
          "data": {
            "text/plain": [
              "' I am a something. I am a messy something! '"
            ]
          },
          "metadata": {
            "tags": []
          },
          "execution_count": 49
        }
      ]
    },
    {
      "cell_type": "code",
      "metadata": {
        "id": "G7rbvRm4Irn_",
        "outputId": "1e573669-94d1-4a2e-a7ac-a57ee672a206"
      },
      "source": [
        "# I can pass in a number of occurences to replace if I don't want to replace them all.\n",
        "\n",
        "a_string.replace('string', 'something', 1)"
      ],
      "execution_count": null,
      "outputs": [
        {
          "output_type": "execute_result",
          "data": {
            "text/plain": [
              "' I am a something. I am a messy string! '"
            ]
          },
          "metadata": {
            "tags": []
          },
          "execution_count": 50
        }
      ]
    },
    {
      "cell_type": "code",
      "metadata": {
        "id": "OfGmFWxwIroB",
        "outputId": "b3c01628-c059-4cef-9481-cc5e71bc8a4f"
      },
      "source": [
        "# I can chain these methods together, too! I can replace and strip at the same time.\n",
        "\n",
        "a_string.replace('string', 'something', 1).strip()"
      ],
      "execution_count": null,
      "outputs": [
        {
          "output_type": "execute_result",
          "data": {
            "text/plain": [
              "'I am a something. I am a messy string!'"
            ]
          },
          "metadata": {
            "tags": []
          },
          "execution_count": 51
        }
      ]
    },
    {
      "cell_type": "markdown",
      "metadata": {
        "id": "qKW0r5iFIroC"
      },
      "source": [
        "___"
      ]
    },
    {
      "cell_type": "markdown",
      "metadata": {
        "id": "PmIjtvxOIroD"
      },
      "source": [
        "#### `.isalnum()`, `.isalpha()`, `.isdigit()`, `.isspace()`\n",
        "\n",
        "These handy string methods return a bool value telling me if all of the characters in the string are either alphanumeric, alphabetic, digits,  or tabs, spaces, or newlines respectively."
      ]
    },
    {
      "cell_type": "code",
      "metadata": {
        "id": "2yX0qxUWIroD"
      },
      "source": [
        "# Define variables for use below\n",
        "\n",
        "alpha = 'alphabetic'\n",
        "alphanumeric = 'unit9'\n",
        "digits = '210'"
      ],
      "execution_count": null,
      "outputs": []
    },
    {
      "cell_type": "code",
      "metadata": {
        "id": "YcpN9ZAOIroF",
        "outputId": "30c097e3-00e6-4014-ce8a-510e7434f41b"
      },
      "source": [
        "alpha.isalpha()"
      ],
      "execution_count": null,
      "outputs": [
        {
          "output_type": "execute_result",
          "data": {
            "text/plain": [
              "True"
            ]
          },
          "metadata": {
            "tags": []
          },
          "execution_count": 53
        }
      ]
    },
    {
      "cell_type": "code",
      "metadata": {
        "id": "ot-bCMc5IroG",
        "outputId": "66562052-3a90-435b-954f-023c7a227f59"
      },
      "source": [
        "alphanumeric.isalnum()"
      ],
      "execution_count": null,
      "outputs": [
        {
          "output_type": "execute_result",
          "data": {
            "text/plain": [
              "True"
            ]
          },
          "metadata": {
            "tags": []
          },
          "execution_count": 54
        }
      ]
    },
    {
      "cell_type": "code",
      "metadata": {
        "id": "cDvauacZIroH",
        "outputId": "2a6cd13f-233a-4342-e231-e434a193bef9"
      },
      "source": [
        "digits.isdigit()"
      ],
      "execution_count": null,
      "outputs": [
        {
          "output_type": "execute_result",
          "data": {
            "text/plain": [
              "True"
            ]
          },
          "metadata": {
            "tags": []
          },
          "execution_count": 55
        }
      ]
    },
    {
      "cell_type": "code",
      "metadata": {
        "id": "GcNSmpuXIroI",
        "outputId": "ceb3fe04-29df-4f01-cffd-ebba9e719459"
      },
      "source": [
        "digits.isspace()"
      ],
      "execution_count": null,
      "outputs": [
        {
          "output_type": "execute_result",
          "data": {
            "text/plain": [
              "False"
            ]
          },
          "metadata": {
            "tags": []
          },
          "execution_count": 56
        }
      ]
    },
    {
      "cell_type": "markdown",
      "metadata": {
        "id": "_mhQ6PHSIroJ"
      },
      "source": [
        "___"
      ]
    },
    {
      "cell_type": "markdown",
      "metadata": {
        "id": "Z4GAdtuYIroV"
      },
      "source": [
        "#### `.startswith()`, `.endswith()`\n",
        "\n",
        "I can return a bool value indicating if a string starts or ends with a substring I pass as an argument.\n",
        "```python\n",
        "# I have to pass a value, but specifying the index position at which to start and end my search is optional.\n",
        "\n",
        "str.startswith(value, start, end)\n",
        "\n",
        "# The same applies here.\n",
        "\n",
        "str.endswith(value, start, end)\n",
        "```"
      ]
    },
    {
      "cell_type": "code",
      "metadata": {
        "id": "mHc6eXknIroV"
      },
      "source": [
        "e_string = 'automobile'"
      ],
      "execution_count": null,
      "outputs": []
    },
    {
      "cell_type": "code",
      "metadata": {
        "id": "yYaU_9CBIroW",
        "outputId": "59375ab6-3e17-4ddd-b158-8dedfb2c4778"
      },
      "source": [
        "e_string.startswith('auto')"
      ],
      "execution_count": null,
      "outputs": [
        {
          "output_type": "execute_result",
          "data": {
            "text/plain": [
              "True"
            ]
          },
          "metadata": {
            "tags": []
          },
          "execution_count": 66
        }
      ]
    },
    {
      "cell_type": "markdown",
      "metadata": {
        "id": "ebrAC42cIroX"
      },
      "source": [
        "___"
      ]
    },
    {
      "cell_type": "markdown",
      "metadata": {
        "id": "skJDPMcfIroY"
      },
      "source": [
        "#### `.count()`\n",
        "\n",
        "I can count the number of occurences of a particular value in a string. The starting and ending index values are optional parameters that allow me more precision if I need it.\n",
        "```python\n",
        "# I have to pass a value, but specifying the index position at which to start and end my search is optional.\n",
        "\n",
        "str.count(value, start, end), where :\n",
        "```"
      ]
    },
    {
      "cell_type": "code",
      "metadata": {
        "id": "FWKy6uY2IroY",
        "outputId": "46c2e5af-798b-4ff9-bfd1-6842ec5b0911"
      },
      "source": [
        "# There are two o characters in my e_string.\n",
        "\n",
        "e_string.count('o')"
      ],
      "execution_count": null,
      "outputs": [
        {
          "output_type": "execute_result",
          "data": {
            "text/plain": [
              "2"
            ]
          },
          "metadata": {
            "tags": []
          },
          "execution_count": 67
        }
      ]
    },
    {
      "cell_type": "markdown",
      "metadata": {
        "id": "mctXXFxXIroZ"
      },
      "source": [
        "<hr style=\"border-top: 10px groove salmon; margin-top: 1px; margin-bottom: 1px\"></hr>"
      ]
    },
    {
      "cell_type": "markdown",
      "metadata": {
        "id": "2O4ArDl6Irog"
      },
      "source": [
        "**String Concatenation** allows me to combine strings using the `+` operator. *When a built-in operator or function displays different behaviors based on the type of object it is used with, this is called* **Operator Overloading.**"
      ]
    },
    {
      "cell_type": "code",
      "metadata": {
        "id": "U1O_6s85Irog",
        "outputId": "67a589f0-96fc-4ed3-b471-ee196f117316"
      },
      "source": [
        "greeting = 'Hi'\n",
        "name = 'there!'\n",
        "\n",
        "print(greeting + ' ' + name)"
      ],
      "execution_count": null,
      "outputs": [
        {
          "output_type": "stream",
          "text": [
            "Hi there!\n"
          ],
          "name": "stdout"
        }
      ]
    },
    {
      "cell_type": "markdown",
      "metadata": {
        "id": "dOSn4g2bIrol"
      },
      "source": [
        "___"
      ]
    },
    {
      "cell_type": "markdown",
      "metadata": {
        "id": "-5Xn5iXJIrol"
      },
      "source": [
        "**Comments** in this section? Sure, why not?!"
      ]
    },
    {
      "cell_type": "code",
      "metadata": {
        "id": "XCwX_tb2Irol"
      },
      "source": [
        "# You can use a hashtag to add comments to your code."
      ],
      "execution_count": null,
      "outputs": []
    },
    {
      "cell_type": "code",
      "metadata": {
        "id": "2InA3Ny_Irom",
        "outputId": "1f3d7476-38c9-441b-f853-e8d7b2bc2a8f"
      },
      "source": [
        "'''\n",
        "You can use triple quotes, single or double, \n",
        "to write multi-line comments or add docstrings\n",
        "to functions, which we'll see in the next notebook.\n",
        "'''"
      ],
      "execution_count": null,
      "outputs": [
        {
          "output_type": "execute_result",
          "data": {
            "text/plain": [
              "\"\\nYou can use triple quotes, single or double, \\nto write multi-line comments or add docstrings\\nto functions, which we'll see in the next notebook.\\n\""
            ]
          },
          "metadata": {
            "tags": []
          },
          "execution_count": 75
        }
      ]
    },
    {
      "cell_type": "markdown",
      "metadata": {
        "id": "2MXDo-eeIron"
      },
      "source": [
        "<hr style=\"border-top: 10px groove salmon; margin-top: 1px; margin-bottom: 1px\"></hr>"
      ]
    },
    {
      "cell_type": "markdown",
      "metadata": {
        "id": "iU53Sfr3Iron"
      },
      "source": [
        "### String Indexing & Slicing"
      ]
    },
    {
      "cell_type": "markdown",
      "metadata": {
        "id": "hA0U_o9JIron"
      },
      "source": [
        "**Positive String Indexing**\n",
        "\n",
        "Python assigns a number to each character in a string, starting from 0 counting up to the last character in the string. We use these numbers to access specific characters in a string or elements in other sequences like lists or tuples."
      ]
    },
    {
      "cell_type": "markdown",
      "metadata": {
        "id": "z-X9TP_OIron"
      },
      "source": [
        "![string indexing image](data:image/png;base64,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)"
      ]
    },
    {
      "cell_type": "markdown",
      "metadata": {
        "id": "R_zL-I_9Iroo"
      },
      "source": [
        "**Negative String Indexing**\n",
        "\n",
        "Python also allows us to reference characters in a string using negative indexing that assigns -1 to the last character in the string. Negative indexing is very useful when you don't know how many characters are in a string, but you want to grab the last one or two only. *We will see this same indexing system when we dive into Python lists, too.*"
      ]
    },
    {
      "cell_type": "markdown",
      "metadata": {
        "id": "O65NbqbhIroo"
      },
      "source": [
        "**The Indexing Operator (square brackets) `[]`** allow me to isolate a character in a string by passing in a number representing the index position of a specific character."
      ]
    },
    {
      "cell_type": "code",
      "metadata": {
        "id": "TxcJ5EDFIroo",
        "outputId": "ddc814c6-d8d2-42ca-f38f-a0bbce32c957"
      },
      "source": [
        "e_string"
      ],
      "execution_count": null,
      "outputs": [
        {
          "output_type": "execute_result",
          "data": {
            "text/plain": [
              "'automobile'"
            ]
          },
          "metadata": {
            "tags": []
          },
          "execution_count": 76
        }
      ]
    },
    {
      "cell_type": "code",
      "metadata": {
        "id": "H3PExv-kIrop",
        "outputId": "07137b49-530f-4f5d-cbd0-e0c7fd135aa8"
      },
      "source": [
        "# I can grab the first character in a string.\n",
        "\n",
        "e_string[0]"
      ],
      "execution_count": null,
      "outputs": [
        {
          "output_type": "execute_result",
          "data": {
            "text/plain": [
              "'a'"
            ]
          },
          "metadata": {
            "tags": []
          },
          "execution_count": 77
        }
      ]
    },
    {
      "cell_type": "code",
      "metadata": {
        "id": "8sSNA_zsIroq",
        "outputId": "9696eeab-d48f-4066-df9a-84dc1ebcb8f7"
      },
      "source": [
        "# I can grab the last character in a string.\n",
        "\n",
        "e_string[-1]"
      ],
      "execution_count": null,
      "outputs": [
        {
          "output_type": "execute_result",
          "data": {
            "text/plain": [
              "'e'"
            ]
          },
          "metadata": {
            "tags": []
          },
          "execution_count": 78
        }
      ]
    },
    {
      "cell_type": "markdown",
      "metadata": {
        "id": "55fKfrgXIros"
      },
      "source": [
        "___"
      ]
    },
    {
      "cell_type": "markdown",
      "metadata": {
        "id": "OMeQ13FFIros"
      },
      "source": [
        "**String Slicing**\n",
        "\n",
        "I can slice a string using the same bracket notation as above; slicing allows me to isolate multiple characters in a string.\n",
        "\n",
        "```python\n",
        "\n",
        "str[start (inclusive): stop (exclusive): step]\n",
        "```"
      ]
    },
    {
      "cell_type": "code",
      "metadata": {
        "id": "REhe8p2rIros",
        "outputId": "c3e7e0ad-8630-429f-853c-6834628eff67"
      },
      "source": [
        "# I can leave out the start index if I want to start from 0.\n",
        "\n",
        "e_string[:4]"
      ],
      "execution_count": null,
      "outputs": [
        {
          "output_type": "execute_result",
          "data": {
            "text/plain": [
              "'auto'"
            ]
          },
          "metadata": {
            "tags": []
          },
          "execution_count": 79
        }
      ]
    },
    {
      "cell_type": "code",
      "metadata": {
        "id": "Lm3-uQd8Irov",
        "outputId": "316ea704-c83a-4927-f5eb-50d290818349"
      },
      "source": [
        "# I can leave out the column index if I want to end at the end or -1.\n",
        "\n",
        "e_string[4:]"
      ],
      "execution_count": null,
      "outputs": [
        {
          "output_type": "execute_result",
          "data": {
            "text/plain": [
              "'mobile'"
            ]
          },
          "metadata": {
            "tags": []
          },
          "execution_count": 80
        }
      ]
    },
    {
      "cell_type": "code",
      "metadata": {
        "id": "mZZOaEL7Irow",
        "outputId": "8f2369a8-456b-44b2-a7f1-fe21bd8d872e"
      },
      "source": [
        "# I can reverse my string by passing -1 as my step argument with default start and stop.\n",
        "\n",
        "e_string[::-1]"
      ],
      "execution_count": null,
      "outputs": [
        {
          "output_type": "execute_result",
          "data": {
            "text/plain": [
              "'elibomotua'"
            ]
          },
          "metadata": {
            "tags": []
          },
          "execution_count": 81
        }
      ]
    },
    {
      "cell_type": "markdown",
      "metadata": {
        "id": "bB9t-qMYIrox"
      },
      "source": [
        "<hr style=\"border-top: 10px groove salmon; margin-top: 1px; margin-bottom: 1px\"></hr>"
      ]
    },
    {
      "cell_type": "markdown",
      "metadata": {
        "id": "d3xFUTGxIroy"
      },
      "source": [
        "#### `in`, `not in` \n",
        "\n",
        "These are two very useful membership operators used to verify if a string contains a certain substring or character. *These will be useful with other sequence types, as well.*"
      ]
    },
    {
      "cell_type": "code",
      "metadata": {
        "id": "HaG4JnQ0Iroy"
      },
      "source": [
        "# Define variables for use below.\n",
        "\n",
        "vowels = 'aeiou'\n",
        "o_string = 'o'\n",
        "p_string = 'P'"
      ],
      "execution_count": null,
      "outputs": []
    },
    {
      "cell_type": "code",
      "metadata": {
        "id": "n2iFEW1aIroz",
        "outputId": "2cc3a859-0726-44c5-f994-31b9894ced33"
      },
      "source": [
        "# I can use the .lower() method on my string to catch any capital letters in my string.\n",
        "\n",
        "o_string.lower() in vowels"
      ],
      "execution_count": null,
      "outputs": [
        {
          "output_type": "execute_result",
          "data": {
            "text/plain": [
              "True"
            ]
          },
          "metadata": {
            "tags": []
          },
          "execution_count": 83
        }
      ]
    },
    {
      "cell_type": "code",
      "metadata": {
        "id": "qI3wjSxXIro0",
        "outputId": "4c6937da-b61c-4fca-91ae-7ae7ef9f7a32"
      },
      "source": [
        "p_string.lower() not in vowels"
      ],
      "execution_count": null,
      "outputs": [
        {
          "output_type": "execute_result",
          "data": {
            "text/plain": [
              "True"
            ]
          },
          "metadata": {
            "tags": []
          },
          "execution_count": 84
        }
      ]
    },
    {
      "cell_type": "code",
      "metadata": {
        "id": "i2tbJL4TIro2",
        "outputId": "1d65f657-6feb-43b2-ce5a-7106f7627011"
      },
      "source": [
        "# Print out the string stored in my `b_string` variable.\n",
        "\n",
        "print(b_string)"
      ],
      "execution_count": null,
      "outputs": [
        {
          "output_type": "stream",
          "text": [
            "!?I have junk at the front I don't need.\n"
          ],
          "name": "stdout"
        }
      ]
    },
    {
      "cell_type": "code",
      "metadata": {
        "id": "HSa0KLd2Iro3",
        "outputId": "7fd42fda-ad2f-4114-f340-09e9c6321e5b"
      },
      "source": [
        "'junk' in b_string"
      ],
      "execution_count": null,
      "outputs": [
        {
          "output_type": "execute_result",
          "data": {
            "text/plain": [
              "True"
            ]
          },
          "metadata": {
            "tags": []
          },
          "execution_count": 86
        }
      ]
    },
    {
      "cell_type": "markdown",
      "metadata": {
        "id": "blWAIqdqIro4"
      },
      "source": [
        "<hr style=\"border-top: 10px groove salmon; margin-top: 1px; margin-bottom: 1px\"></hr>"
      ]
    },
    {
      "cell_type": "markdown",
      "metadata": {
        "id": "wyRgnzd2Iro4"
      },
      "source": [
        "## List Operations"
      ]
    },
    {
      "cell_type": "markdown",
      "metadata": {
        "id": "MA_LVGlfIro4"
      },
      "source": [
        "<hr style=\"border-top: 10px groove salmon; margin-top: 1px; margin-bottom: 1px\"></hr>"
      ]
    },
    {
      "cell_type": "markdown",
      "metadata": {
        "id": "A0y8MMb3Iro5"
      },
      "source": [
        "<a id='lists'></a>"
      ]
    },
    {
      "cell_type": "markdown",
      "metadata": {
        "id": "_nawxHgJIro5"
      },
      "source": [
        "### List Methods\n",
        "\n",
        "Like we saw with strings above, there are many useful built-in list methods that allow us to perform all types of manipulations on our list objects. We will look at a few very common methods below, but you can find many more [here](http://www.python-ds.com/python-3-list-methods)."
      ]
    },
    {
      "cell_type": "code",
      "metadata": {
        "id": "DgRlUBQaIro5"
      },
      "source": [
        "# I create my exmple list by surrounding a sequence of elements with square brackets.\n",
        "\n",
        "color_list_original = ['red', 'yellow', 'violet', 'salmon']"
      ],
      "execution_count": null,
      "outputs": []
    },
    {
      "cell_type": "code",
      "metadata": {
        "id": "nIBolS4xIro6",
        "outputId": "2726732f-36ba-4dfd-c8d4-163f08022e9f"
      },
      "source": [
        "# I can also use the `list()` constructor to create a list from another type of sequence.\n",
        "\n",
        "clothes = ('shirt', 'pants', 'skirt', 'socks')\n",
        "type(clothes)"
      ],
      "execution_count": null,
      "outputs": [
        {
          "output_type": "execute_result",
          "data": {
            "text/plain": [
              "tuple"
            ]
          },
          "metadata": {
            "tags": []
          },
          "execution_count": 88
        }
      ]
    },
    {
      "cell_type": "code",
      "metadata": {
        "id": "VAhRtAXgIro7",
        "outputId": "2d4afe62-0e1b-4ae5-a2e1-9629c502d8ea"
      },
      "source": [
        "clothes_list_original = list(clothes)\n",
        "type(clothes_list_original)"
      ],
      "execution_count": null,
      "outputs": [
        {
          "output_type": "execute_result",
          "data": {
            "text/plain": [
              "list"
            ]
          },
          "metadata": {
            "tags": []
          },
          "execution_count": 89
        }
      ]
    },
    {
      "cell_type": "markdown",
      "metadata": {
        "id": "HY-HABc4Iro8"
      },
      "source": [
        "I can use the `.copy()` method to create a copy of my sequence if I want to keep my original list intact because many of the list methods below perform in-place operations; this means they mutate my original list."
      ]
    },
    {
      "cell_type": "code",
      "metadata": {
        "id": "Svj9I7fDIro8"
      },
      "source": [
        "color_list = color_list_original.copy()\n",
        "clothes_list = clothes_list_original.copy()"
      ],
      "execution_count": null,
      "outputs": []
    },
    {
      "cell_type": "markdown",
      "metadata": {
        "id": "tEsQ0aWCIro9"
      },
      "source": [
        "___"
      ]
    },
    {
      "cell_type": "markdown",
      "metadata": {
        "id": "wTNnJD1MIro9"
      },
      "source": [
        "#### `.append()`, `.extend()`\n",
        "\n",
        "I can add an item to the end of an existing list, and I can add a list to another list by joining them together respectively. *These manipulations will mutate or change my original list.*\n",
        "```python\n",
        "list.append(element)\n",
        "\n",
        "list.extend(iterable)\n",
        "```"
      ]
    },
    {
      "cell_type": "code",
      "metadata": {
        "id": "fTrjRxbRIro9"
      },
      "source": [
        "# I can add an item, shoes, to my clothes_list.\n",
        "\n",
        "clothes_list.append('shoes')"
      ],
      "execution_count": null,
      "outputs": []
    },
    {
      "cell_type": "code",
      "metadata": {
        "id": "y--lyfQsIro-",
        "outputId": "b68734ee-a5db-44b6-c13d-86672f265756"
      },
      "source": [
        "# My original clothes_list now contains the appended item, shoes.\n",
        "\n",
        "clothes_list"
      ],
      "execution_count": null,
      "outputs": [
        {
          "output_type": "execute_result",
          "data": {
            "text/plain": [
              "['shirt', 'pants', 'skirt', 'socks', 'shoes']"
            ]
          },
          "metadata": {
            "tags": []
          },
          "execution_count": 92
        }
      ]
    },
    {
      "cell_type": "code",
      "metadata": {
        "id": "mLbDWqtBIrpB"
      },
      "source": [
        "color_list2 = ['indigo', 'orange']"
      ],
      "execution_count": null,
      "outputs": []
    },
    {
      "cell_type": "code",
      "metadata": {
        "id": "IbsU-FYzIrpC"
      },
      "source": [
        "# I can add the items in color_list2 to my original color_list.\n",
        "\n",
        "color_list.extend(color_list2)"
      ],
      "execution_count": null,
      "outputs": []
    },
    {
      "cell_type": "code",
      "metadata": {
        "id": "gLGXQTWGIrpD",
        "outputId": "52e2f1c6-9040-4abe-83ba-0007edff5e2d"
      },
      "source": [
        "color_list"
      ],
      "execution_count": null,
      "outputs": [
        {
          "output_type": "execute_result",
          "data": {
            "text/plain": [
              "['red', 'yellow', 'violet', 'salmon', 'indigo', 'orange']"
            ]
          },
          "metadata": {
            "tags": []
          },
          "execution_count": 95
        }
      ]
    },
    {
      "cell_type": "code",
      "metadata": {
        "id": "_3rLsxXoIrpE"
      },
      "source": [
        "# If I tried to use .append() to add my two lists together, this would happen...\n",
        "\n",
        "clothes_list.append(color_list2)"
      ],
      "execution_count": null,
      "outputs": []
    },
    {
      "cell_type": "code",
      "metadata": {
        "id": "r1SBFXxiIrpF",
        "outputId": "c91b9480-6f29-496d-d115-63a23a21ba21"
      },
      "source": [
        "# I get a nested list object. If you don't want this, use .extend().\n",
        "\n",
        "clothes_list"
      ],
      "execution_count": null,
      "outputs": [
        {
          "output_type": "execute_result",
          "data": {
            "text/plain": [
              "['shirt', 'pants', 'skirt', 'socks', 'shoes', ['indigo', 'orange']]"
            ]
          },
          "metadata": {
            "tags": []
          },
          "execution_count": 97
        }
      ]
    },
    {
      "cell_type": "code",
      "metadata": {
        "id": "AKkS7RJMIrpG"
      },
      "source": [
        "# Redefine lists to use in examples.\n",
        "\n",
        "color_list = color_list_original.copy()\n",
        "clothes_list = clothes_list_original.copy()"
      ],
      "execution_count": null,
      "outputs": []
    },
    {
      "cell_type": "code",
      "metadata": {
        "id": "kmkBBH4dIrpG",
        "outputId": "dc43b500-07fc-49ce-8775-1a8efc493faf"
      },
      "source": [
        "# I can also add two lists using the + operator and assign my new list to a variable.\n",
        "\n",
        "new_list = color_list + clothes_list\n",
        "new_list"
      ],
      "execution_count": null,
      "outputs": [
        {
          "output_type": "execute_result",
          "data": {
            "text/plain": [
              "['red', 'yellow', 'violet', 'salmon', 'shirt', 'pants', 'skirt', 'socks']"
            ]
          },
          "metadata": {
            "tags": []
          },
          "execution_count": 99
        }
      ]
    },
    {
      "cell_type": "markdown",
      "metadata": {
        "id": "RBKDn4ApIrpH"
      },
      "source": [
        "___"
      ]
    },
    {
      "cell_type": "markdown",
      "metadata": {
        "id": "xAROvl8fIrpH"
      },
      "source": [
        "#### `.insert()`, `.remove()`, `.pop()`\n",
        "\n",
        "I can add an item to a list at a given position, remove the first item from my list that matches my specified value, and remove an item at a specific position from my list and return the item respectively. *These manipulations will mutate or change my original list.*\n",
        "```python\n",
        "# I can insert an element into an existing list at a specified index position.\n",
        "\n",
        "list.insert(index_position, element)\n",
        "\n",
        "# I can remove the first occurrence of an element in a list.\n",
        "\n",
        "list.remove(element)\n",
        "\n",
        "# I can remove an element at a specified index position from a list and return that element.\n",
        "\n",
        "list.pop(index_position)\n",
        "```"
      ]
    },
    {
      "cell_type": "code",
      "metadata": {
        "id": "C9abGcsMIrpH"
      },
      "source": [
        "# Redefine lists to use in examples.\n",
        "\n",
        "color_list = color_list_original.copy()\n",
        "clothes_list = clothes_list_original.copy()"
      ],
      "execution_count": null,
      "outputs": []
    },
    {
      "cell_type": "code",
      "metadata": {
        "id": "q8DreswEIrpI"
      },
      "source": [
        "# I pass the index of the element before which I want to insert my new element, 'aqua'.\n",
        "\n",
        "color_list.insert(0, 'aqua')"
      ],
      "execution_count": null,
      "outputs": []
    },
    {
      "cell_type": "code",
      "metadata": {
        "id": "LQ2zZF-IIrpJ",
        "outputId": "092a2fd5-25fd-4fed-8aaa-f3553c7245b5"
      },
      "source": [
        "# Now aqua is the first element in my list. If I used .append(), it would be the last.\n",
        "\n",
        "color_list"
      ],
      "execution_count": null,
      "outputs": [
        {
          "output_type": "execute_result",
          "data": {
            "text/plain": [
              "['aqua', 'red', 'yellow', 'violet', 'salmon']"
            ]
          },
          "metadata": {
            "tags": []
          },
          "execution_count": 102
        }
      ]
    },
    {
      "cell_type": "code",
      "metadata": {
        "id": "B1lOJFUxIrpK",
        "outputId": "368bec06-35d9-4a9b-8465-ac414f62425e"
      },
      "source": [
        "# I will remove the item 'yellow' from my color_list\n",
        "\n",
        "color_list.remove('yellow')\n",
        "color_list"
      ],
      "execution_count": null,
      "outputs": [
        {
          "output_type": "execute_result",
          "data": {
            "text/plain": [
              "['aqua', 'red', 'violet', 'salmon']"
            ]
          },
          "metadata": {
            "tags": []
          },
          "execution_count": 103
        }
      ]
    },
    {
      "cell_type": "code",
      "metadata": {
        "id": "TK0wLToCIrpL",
        "outputId": "56272ae2-fc38-499c-e993-92acb76523c6"
      },
      "source": [
        "# I will remove and return the second item in my list, index 1, `red`.\n",
        "\n",
        "color_list.pop(1)"
      ],
      "execution_count": null,
      "outputs": [
        {
          "output_type": "execute_result",
          "data": {
            "text/plain": [
              "'red'"
            ]
          },
          "metadata": {
            "tags": []
          },
          "execution_count": 104
        }
      ]
    },
    {
      "cell_type": "code",
      "metadata": {
        "id": "GNL8M0jmIrpN",
        "outputId": "a6ffbcee-aeaf-4ead-83d6-fcb6b3e2fe95"
      },
      "source": [
        "# Notice after I pop 'red', it is removed from my original list as well; it removes and returns the element.\n",
        "\n",
        "color_list"
      ],
      "execution_count": null,
      "outputs": [
        {
          "output_type": "execute_result",
          "data": {
            "text/plain": [
              "['aqua', 'violet', 'salmon']"
            ]
          },
          "metadata": {
            "tags": []
          },
          "execution_count": 105
        }
      ]
    },
    {
      "cell_type": "markdown",
      "metadata": {
        "id": "FAsKjTfpIrpN"
      },
      "source": [
        "___"
      ]
    },
    {
      "cell_type": "markdown",
      "metadata": {
        "id": "pKGgLQVHIrpO"
      },
      "source": [
        "#### `.reverse()`, `.sort()`\n",
        "\n",
        "I can reverse the elements in my list or sort the elements alphabetically.\n",
        "```python\n",
        "# I can perform a simple reverse of order on my original list.\n",
        "\n",
        "list.reverse()\n",
        "\n",
        "# I can sort my list in ascending/alphabetical order by default, passing no arguments to .sort(), or I can pass arguments for the reverse and key parameters to do way more complex sorts.\n",
        "\n",
        "list.sort(reverse=True|False, key=function)\n",
        "```"
      ]
    },
    {
      "cell_type": "code",
      "metadata": {
        "id": "PxYjC56-IrpO"
      },
      "source": [
        "# Redefine lists to use in examples.\n",
        "\n",
        "color_list = color_list_original.copy()\n",
        "clothes_list = clothes_list_original.copy()"
      ],
      "execution_count": null,
      "outputs": []
    },
    {
      "cell_type": "code",
      "metadata": {
        "id": "xU1vypfyIrpO",
        "outputId": "f7cc2123-d68e-4aa8-b468-842ed875e847"
      },
      "source": [
        "# I can reverse the elements in my original list.\n",
        "\n",
        "color_list.reverse()\n",
        "color_list"
      ],
      "execution_count": null,
      "outputs": [
        {
          "output_type": "execute_result",
          "data": {
            "text/plain": [
              "['salmon', 'violet', 'yellow', 'red']"
            ]
          },
          "metadata": {
            "tags": []
          },
          "execution_count": 107
        }
      ]
    },
    {
      "cell_type": "code",
      "metadata": {
        "id": "UDDmT7KlIrpP",
        "outputId": "316afce7-738b-4bf0-bb30-6255a791cfe2"
      },
      "source": [
        "# I can sort the elements in my original list alphabetically by default.\n",
        "\n",
        "clothes_list.sort()\n",
        "clothes_list"
      ],
      "execution_count": null,
      "outputs": [
        {
          "output_type": "execute_result",
          "data": {
            "text/plain": [
              "['pants', 'shirt', 'skirt', 'socks']"
            ]
          },
          "metadata": {
            "tags": []
          },
          "execution_count": 108
        }
      ]
    },
    {
      "cell_type": "code",
      "metadata": {
        "id": "d5t1wuEQIrpQ",
        "outputId": "c3ccb432-ef29-4034-bb1f-888d70a706b9"
      },
      "source": [
        "# I can sort in reverse alphabetical order, too!\n",
        "\n",
        "clothes_list.sort(reverse=True)\n",
        "clothes_list"
      ],
      "execution_count": null,
      "outputs": [
        {
          "output_type": "execute_result",
          "data": {
            "text/plain": [
              "['socks', 'skirt', 'shirt', 'pants']"
            ]
          },
          "metadata": {
            "tags": []
          },
          "execution_count": 109
        }
      ]
    },
    {
      "cell_type": "code",
      "metadata": {
        "id": "gQ2FqpnBIrpR",
        "outputId": "bc94bdee-6bfe-4d84-bf42-cb02263d5be6"
      },
      "source": [
        "# I can pass a function, built-in or created, as a sorting key or criteria. Here I sort by string length!\n",
        "\n",
        "color_list.sort(key=len)\n",
        "color_list"
      ],
      "execution_count": null,
      "outputs": [
        {
          "output_type": "execute_result",
          "data": {
            "text/plain": [
              "['red', 'salmon', 'violet', 'yellow']"
            ]
          },
          "metadata": {
            "tags": []
          },
          "execution_count": 110
        }
      ]
    },
    {
      "cell_type": "markdown",
      "metadata": {
        "id": "Pj-A-Kl9IrpS"
      },
      "source": [
        "___"
      ]
    },
    {
      "cell_type": "markdown",
      "metadata": {
        "id": "3Tj97KdKIrpS"
      },
      "source": [
        "### List Indexing & Slicing\n",
        "\n",
        "Once you understand positive and negative string indexing and slicing, you understand positive and negative list indexing. The difference is that the index number represents an element in your list (or tuple) instead of a character in your string.\n",
        "![List Indexing Image](https://railsware.com/blog/wp-content/uploads/2018/10/first-slice.png)"
      ]
    },
    {
      "cell_type": "code",
      "metadata": {
        "id": "axZYgGMzIrpS",
        "outputId": "f932f567-f3b0-40de-dfea-8bd792959ad8"
      },
      "source": [
        "color_list = color_list_original.copy()\n",
        "color_list"
      ],
      "execution_count": null,
      "outputs": [
        {
          "output_type": "execute_result",
          "data": {
            "text/plain": [
              "['red', 'yellow', 'violet', 'salmon']"
            ]
          },
          "metadata": {
            "tags": []
          },
          "execution_count": 111
        }
      ]
    },
    {
      "cell_type": "code",
      "metadata": {
        "id": "vCY0nIr2IrpU",
        "outputId": "220a5f29-757a-41ee-a115-415a6eafd732"
      },
      "source": [
        "# The default start is 0 and stop is exclusive, just like slicing strings.\n",
        "\n",
        "color_list[:4]"
      ],
      "execution_count": null,
      "outputs": [
        {
          "output_type": "execute_result",
          "data": {
            "text/plain": [
              "['red', 'yellow', 'violet', 'salmon']"
            ]
          },
          "metadata": {
            "tags": []
          },
          "execution_count": 112
        }
      ]
    },
    {
      "cell_type": "code",
      "metadata": {
        "id": "04xaXaWwIrpV",
        "outputId": "81ce8bc1-172a-41d3-af3f-e8e6fc8361df"
      },
      "source": [
        "# I can use indexing to reverse my list by selecting all elements ([::]) and passing a step of -1.\n",
        "\n",
        "color_list[::-1]"
      ],
      "execution_count": null,
      "outputs": [
        {
          "output_type": "execute_result",
          "data": {
            "text/plain": [
              "['salmon', 'violet', 'yellow', 'red']"
            ]
          },
          "metadata": {
            "tags": []
          },
          "execution_count": 113
        }
      ]
    }
  ]
}